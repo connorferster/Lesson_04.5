{
 "cells": [
  {
   "cell_type": "markdown",
   "id": "d3b33b15",
   "metadata": {},
   "source": [
    "# Topics\n",
    "\n",
    "* Variable inspector\n",
    "* Ctrl-clicking\n",
    "* Block commenting\n",
    "* Terminology\n",
    "    * Variable\n",
    "    * Function\n",
    "    * Expression\n",
    "    * Statement\n",
    "* Conventions\n",
    "* Namespaces\n",
    "\n",
    "**Reasoning Through Workbook_04**\n",
    "* Visualizing a for loop\n",
    "* Writing effecient logic\n",
    "    * Guarding clauses (testing for not what you want)\n",
    "    * Unnecessary `else`\n",
    "* Thinking of \"what I need\" vs. \"what I have\""
   ]
  },
  {
   "cell_type": "markdown",
   "id": "3bc47dee",
   "metadata": {},
   "source": [
    "# Lesson 4.5: Exploring Functions"
   ]
  },
  {
   "cell_type": "markdown",
   "id": "c31d5bd0",
   "metadata": {},
   "source": [
    "## First some tricks to help you\n",
    "\n",
    "* Enable variable inspector and turn on - Reduces the number of `print()` you may need\n",
    "* `Ctrl-click` for multi-cursor - Helps for writing tests quickly and changing variable names in multiple places at once\n",
    "* `Ctrl-/` for block commenting - Don't have to be precise about where you click on a line\n"
   ]
  },
  {
   "cell_type": "markdown",
   "id": "131d21b9",
   "metadata": {},
   "source": [
    "# Variables, Functions, \"Expressions\", and \"Statements\"\n",
    "\n",
    "* Variable: a named _placeholder_ for some piece of data. e.g. `x = 4.3`. `x` is a placeholder (named \"x\") that represents the data `4.3`\n",
    "* Function: a named _process_ that performs a set of instructions on one more pieces of data (inputs) and returns an output. e.g.\n",
    "\n",
    "```python\n",
    "def double_my_number(my_number: float) -> float:\n",
    "    \"\"\"\n",
    "    Returns 'my_number' multiplied by two\n",
    "    \"\"\"\n",
    "    my_doubled_num = my_number * 2\n",
    "    return my_doubled_num\n",
    "```\n",
    "\n",
    "The example function (above) has a name, `double_my_number` that we can now invoke to perform this pre-made process on some data of our choosing, e.g.\n",
    "\n",
    "```python\n",
    "x = 4.3 # our variable\n",
    "y = double_my_number(x) # Returns 8.6 and assigns that result to our new variable \"y\"\n",
    "```\n",
    "\n",
    "**Note:** When we later use the function by it's name, we say we are _calling_ the function. \n",
    "\n",
    "We can _call_ the function on some data only after we have _defined_ the function.\n",
    "\n",
    "The important things to know about a function are as follows:\n",
    " 1. It has a name\n",
    " 2. It is a pre-defined process or set of instructions that generally takes some input and produces an output\n",
    " 3. We can then use the name to perform that process on some data\n",
    " \n",
    " **We have been using these words already but they don't describe everything we do.**"
   ]
  },
  {
   "cell_type": "markdown",
   "id": "04127339",
   "metadata": {},
   "source": [
    "### Two new words: Expression and Statement\n",
    "\n",
    "What is the word we use to describe this?\n",
    "\n",
    "```python\n",
    "f\"Good morning, {name}!\"\n",
    "```\n",
    "\n",
    "Or\n",
    "\n",
    "```python\n",
    "a + 23 / b + 2**n\n",
    "```\n",
    "\n",
    "Or even just this\n",
    "\n",
    "```python\n",
    "2 > 1\n",
    "```\n",
    "\n",
    "These are all _expressions_. An expression is some combination of **variables**, **data**, and/or **operators** that evaluate down to some value.\n",
    "\n",
    "In the first example: `f\"Good morning, {name}!\"`, evaluates down to \"Good morning, 83!\", if the variable `name` had the value of `83`.\n",
    "\n",
    "The second example: `a + 23 / b + 2**n` would probably evaluate down to some `float` whose final value would depend on the values of `a`, `b`, and `n`.\n",
    "\n",
    "The third example: `2 > 1` would evaluate down to the `bool` value of `True`.\n",
    "\n",
    "Expressions don't have names but their evaluated _value_ can be assigned to a variable which would then give the resulting value a name.\n",
    "\n",
    "A function _call_ can be part of an expression, e.g.\n",
    "\n",
    "```python\n",
    "double_my_number(4.3) # This is an expression, too. Not the function itself but calling the function.\n",
    "```\n",
    "\n",
    "This expression will evaluate to the value of `8.6`"
   ]
  },
  {
   "cell_type": "markdown",
   "id": "e68149f4",
   "metadata": {},
   "source": [
    "### Statements\n",
    "\n",
    "A _statement_ can be a bit ambiguous. Generally speaking a statement is some line of code that \"does something\". It can be ambiguous because, in Python, an expression can be considered a \"statement\" but not all \"statements\" are expressions.\n",
    "\n",
    "It can be easier to just show by example. These are all \"statements\":\n",
    "\n",
    "```python\n",
    "def my_func(a, b, c): # This is the \"function definition statement\"\n",
    "```\n",
    "\n",
    "```python\n",
    "import cs103 # This would be an \"import statement\"\n",
    "```\n",
    "\n",
    "```python\n",
    "if my_number == number_to_check: # This would be an \"if\" statement\n",
    "```\n",
    "\n",
    "```python\n",
    "else: # This would be an \"else\" statement\n",
    "```\n",
    "\n",
    "**Note:** In this example, there is an expression as part of the statement: `if my_number == number_to_check:`. The `my_number == number_to_check` is an expression. As part of the larger: `if my_number == number_to_check:` it becomes a statement. The statement tells Python to evaluate the expression and, depending on it's value, then change how the following code is interpreted."
   ]
  },
  {
   "cell_type": "markdown",
   "id": "e66febe8",
   "metadata": {},
   "source": [
    "### Thoughts on Variables, Functions, Expressions, and Statements\n",
    "\n",
    "* Variable: Named placeholder for data\n",
    "* Function: Named process that takes inputs and creates outputs\n",
    "* Expression: Combination of data, variables, operators that reduces down to some value\n",
    "* Statement: Code that \"does something\" which may contain expressions (e.g. `if`, `return`, `def`, `import`, `for`, etc.)"
   ]
  },
  {
   "cell_type": "markdown",
   "id": "928c6557",
   "metadata": {},
   "source": [
    "The purpose in clarifying and discussing this terminology is not to be academic about it. \n",
    "\n",
    "It's to help give us language to describe what we are doing when we are talking to others about our programming experience. It helps to keep us all on the same page and to help make it clear in our minds what, exactly, it is that we are doing."
   ]
  },
  {
   "cell_type": "markdown",
   "id": "c6d2cdd2",
   "metadata": {},
   "source": [
    "# Namespaces\n",
    "\n",
    "First, a Python \"easter egg\"\n",
    "\n",
    "Run this in a cell:\n",
    "\n",
    "```python\n",
    "import this\n",
    "```"
   ]
  },
  {
   "cell_type": "markdown",
   "id": "9f5f49d7",
   "metadata": {},
   "source": [
    "### Namespaces are like containers of all the variables you currently have access to\n",
    "\n",
    "Python has four primary namespaces:\n",
    "\n",
    "1. The \"built-in\" namespace\n",
    "2. The \"global\" namespace\n",
    "3. The \"enclosing\" namespace\n",
    "4. The \"local\" namespace"
   ]
  },
  {
   "cell_type": "markdown",
   "id": "5d6306ef",
   "metadata": {},
   "source": [
    "### Built-in namespace\n",
    "\n",
    "This is the namespace that contains all of the built-in functions and errors/exceptions that are part of running Python. Any Python code _always_ has access to the built-in namespace.\n",
    "\n",
    "Run:\n",
    "\n",
    "```python\n",
    "dir(__builtins__)\n",
    "```\n",
    "\n",
    "To see what all of the builtin functions are"
   ]
  },
  {
   "cell_type": "code",
   "execution_count": null,
   "id": "ae1a5569",
   "metadata": {},
   "outputs": [],
   "source": []
  },
  {
   "cell_type": "markdown",
   "id": "944e487b",
   "metadata": {},
   "source": [
    "### Global namespace\n",
    "\n",
    "If you were to just start writing Python code in a Jupyter cell without defining any functions or anything, you would be operating primarily in the **global** namespace. This is the namespace you see reflected in the Variable Inspector.\n",
    "\n",
    "The global namespace is available to all parts of your program."
   ]
  },
  {
   "cell_type": "code",
   "execution_count": null,
   "id": "2acd54a4",
   "metadata": {},
   "outputs": [],
   "source": []
  },
  {
   "cell_type": "code",
   "execution_count": 38,
   "id": "363e5bc9",
   "metadata": {},
   "outputs": [],
   "source": [
    "from typing import List"
   ]
  },
  {
   "cell_type": "markdown",
   "id": "eed95cff",
   "metadata": {},
   "source": [
    "### Enclosing and Local namespace\n",
    "\n",
    "For now, we will consider these to be the same thing. They will become diferent in Lesson 08 (by then it will be obvious how they work).\n",
    "\n",
    "When we write a function definition, we are creating a new namespace -- the _local_ namespace that only exists inside the function.\n",
    "\n",
    "The variables that we define within the function cannot be accessed from outside of the function.\n",
    "\n",
    "e.g.\n",
    "\n",
    "```python\n",
    "def remove_empty_strings(list_of_strings: List[str]) -> List[str]:\n",
    "    \"\"\"\n",
    "    Returns 'list_of_strings' with any empty strings removed\n",
    "    \"\"\"\n",
    "    no_empties = []\n",
    "    for string in list_of_strings:\n",
    "        if string:\n",
    "            no_empties.append(string)\n",
    "    return no_empties\n",
    "```\n",
    "\n",
    "When I am working on the implementation of this function, I am using variable names like `no_empties` and `string`. These variable names only exist in the local namespace of the function, `remove_empty_strings`.\n",
    "\n",
    "We can see this when we run our function defintion in a cell. We won't see `no_empties` or `string` in the Variable Inspector."
   ]
  },
  {
   "cell_type": "code",
   "execution_count": null,
   "id": "99666830",
   "metadata": {},
   "outputs": [],
   "source": []
  },
  {
   "cell_type": "markdown",
   "id": "6598d62e",
   "metadata": {},
   "source": [
    "Our function definition is kind of like a building a marble-run but with no marbles in it. \n",
    "\n",
    "The variables in our function defintion are like buckets in the marble run. \n",
    "\n",
    "They don't have any values in them, yet. But they will have values when we _call_ the function (i.e. put the marbles in)!\n",
    "\n",
    "Those value of those variables will only exist in the local namespace."
   ]
  },
  {
   "cell_type": "markdown",
   "id": "4b0397a7",
   "metadata": {},
   "source": [
    "## Namespace heirarchy\n",
    "\n",
    "From the **global** namespace we _cannot_ access variables in the **local** namespace. The variables in the **local** namespace only exist in the __local__ namespace.\n",
    "\n",
    "However! The variables in the __global__ namespace ARE accessible to the __local__ namespace."
   ]
  },
  {
   "attachments": {
    "image.png": {
     "image/png": "[encoded data removed]"
    }
   },
   "cell_type": "markdown",
   "id": "ca9c90ca",
   "metadata": {},
   "source": [
    "![image.png](attachment:image.png)"
   ]
  },
  {
   "cell_type": "markdown",
   "id": "25223da6",
   "metadata": {},
   "source": [
    "An example:\n",
    "\n",
    "```python\n",
    "PI = 3.14159\n",
    "\n",
    "def circumference_of_circle(dia: float) -> float:\n",
    "    \"\"\"\n",
    "    Returns the circumference of the circle with a given diameter, 'dia'.\n",
    "    \"\"\"\n",
    "    circumference = PI * dia\n",
    "    return circumference\n",
    "```\n",
    "\n",
    "I can _access the value_ of `PI` in the local namespace of `circumference_of_circle` but I cannot access `circumference` from outside of the function (the global namespace).\n",
    "\n",
    "Additionally, I cannot _change_ that value of `PI` from within the local namespace.\n",
    "\n",
    "e.g.\n",
    "```python\n",
    "PI = 3.14159\n",
    "\n",
    "def circumference_of_circle(dia: float) -> float:\n",
    "    \"\"\"\n",
    "    Returns the circumference of the circle with a given diameter, 'dia'.\n",
    "    \"\"\"\n",
    "    circumference = PI * dia\n",
    "    PI = 12\n",
    "    return circumference\n",
    "```"
   ]
  },
  {
   "cell_type": "code",
   "execution_count": null,
   "id": "6c052039",
   "metadata": {},
   "outputs": [],
   "source": []
  },
  {
   "cell_type": "markdown",
   "id": "05bfbaa2",
   "metadata": {},
   "source": [
    "## How do I know if I am in the local namespace or the global namespace?\n",
    "\n",
    "**Easy! Look at your indent.**\n",
    "\n",
    "```python\n",
    "PI = 3.14159\n",
    "\n",
    "def circumference_of_circle(dia: float) -> float:\n",
    "    \"\"\"\n",
    "    Returns the circumference of the circle with a given diameter, 'dia'.\n",
    "    \"\"\"\n",
    "    circumference = PI * dia # This line is indented under the function definition statement: local namespace\n",
    "PI = 12 # This line is no longer under the function definition statement: global namespace\n",
    "```"
   ]
  },
  {
   "cell_type": "code",
   "execution_count": null,
   "id": "1d464a98",
   "metadata": {},
   "outputs": [],
   "source": []
  },
  {
   "cell_type": "markdown",
   "id": "eeeb7646",
   "metadata": {},
   "source": [
    "You have to be either _in_ or _out_ of your local namespace. You cannot \"leave and then come back\".\n",
    "\n",
    "This will cause an error:\n",
    "\n",
    "```python\n",
    "PI = 3.14159\n",
    "\n",
    "def circumference_of_circle(dia: float) -> float:\n",
    "    \"\"\"\n",
    "    Returns the circumference of the circle with a given diameter, 'dia'.\n",
    "    \"\"\"\n",
    "    circumference = PI * dia # This line is indented under the function definition statement: local namespace\n",
    "PI = 12 # This line is no longer under the function definition statement: global namespace\n",
    "    return circumference # Can I come back? Please???\n",
    "```"
   ]
  },
  {
   "cell_type": "code",
   "execution_count": null,
   "id": "96b957ca",
   "metadata": {},
   "outputs": [],
   "source": []
  }
 ],
 "metadata": {
  "kernelspec": {
   "display_name": "Python 3",
   "language": "python",
   "name": "python3"
  },
  "language_info": {
   "codemirror_mode": {
    "name": "ipython",
    "version": 3
   },
   "file_extension": ".py",
   "mimetype": "text/x-python",
   "name": "python",
   "nbconvert_exporter": "python",
   "pygments_lexer": "ipython3",
   "version": "3.7.10"
  },
  "varInspector": {
   "cols": {
    "lenName": 16,
    "lenType": 16,
    "lenVar": 40
   },
   "kernels_config": {
    "python": {
     "delete_cmd_postfix": "",
     "delete_cmd_prefix": "del ",
     "library": "var_list.py",
     "varRefreshCmd": "print(var_dic_list())"
    },
    "r": {
     "delete_cmd_postfix": ") ",
     "delete_cmd_prefix": "rm(",
     "library": "var_list.r",
     "varRefreshCmd": "cat(var_dic_list()) "
    }
   },
   "oldHeight": 171.85,
   "position": {
    "height": "193.85px",
    "left": "915px",
    "right": "20px",
    "top": "119px",
    "width": "366px"
   },
   "types_to_exclude": [
    "module",
    "function",
    "builtin_function_or_method",
    "instance",
    "_Feature"
   ],
   "varInspector_section_display": "block",
   "window_display": false
  }
 },
 "nbformat": 4,
 "nbformat_minor": 5
}
